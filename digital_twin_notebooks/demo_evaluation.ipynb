{
    "cells": [
     {
      "cell_type": "markdown",
      "metadata": {},
      "source": [
       "# Demo notebook to evaluate pre-trained model from ML4Fires\n",
       "\n",
       "First import relevant libraries to run the inference"
      ]
     },
     {
      "cell_type": "code",
      "execution_count": null,
      "metadata": {
       "tags": []
      },
      "outputs": [],
      "source": [
       "from tqdm import tqdm\n",
       "import torch\n",
       "import numpy as np\n",
       "\n",
       "import warnings\n",
       "warnings.filterwarnings(\"ignore\")\n",
       "\n",
       "from Fires._utilities.utils_mlflow import load_model_from_mlflow\n",
       "from Fires._utilities.utils_inference import load_input_data, create_data_loader, process_and_plot_data, get_prov_image"
      ]
     },
     {
      "cell_type": "markdown",
      "metadata": {},
      "source": [
       "Select the model by specfying the run id from the MLFlow and download model, scaler and provenance document"
      ]
     },
     {
      "cell_type": "code",
      "execution_count": null,
      "metadata": {
       "tags": []
      },
      "outputs": [],
      "source": [
       "run_id=input()\n",
       "registered_model = load_model_from_mlflow(run_id, provenance=True)\n",
       "registered_model "
      ]
     },
     {
      "cell_type": "markdown",
      "metadata": {},
      "source": [
       "Let's check ML model provenance"
      ]
     },
     {
      "cell_type": "code",
      "execution_count": null,
      "metadata": {
       "tags": []
      },
      "outputs": [],
      "source": [
       "prov_image = get_prov_image(run_id)\n",
       "from IPython.display import Image\n",
       "Image(filename=prov_image) "
      ]
     },
     {
      "cell_type": "markdown",
      "metadata": {},
      "source": [
       "Let's get the data for the model evaluation"
      ]
     },
     {
      "cell_type": "code",
      "execution_count": null,
      "metadata": {
       "tags": []
      },
      "outputs": [],
      "source": [
       "# define path to complete dataset\n",
       "data_path = \"../ML4Fires_data/data_100km.zarr\"\n",
       "input_data = load_input_data(data_path, '2019', '2020')\n",
       "input_data"
      ]
     },
     {
      "cell_type": "code",
      "execution_count": null,
      "metadata": {
       "tags": []
      },
      "outputs": [],
      "source": [
       "torch_data_loader = create_data_loader(data_path, run_id)"
      ]
     },
     {
      "cell_type": "markdown",
      "metadata": {},
      "source": [
       "Let's run the prediction with the trained model downloaded from MLFlow"
      ]
     },
     {
      "cell_type": "code",
      "execution_count": null,
      "metadata": {
       "tags": []
      },
      "outputs": [],
      "source": [
       "preds = []\n",
       "with torch.no_grad():\n",
       "\tfor data, _ in tqdm(torch_data_loader):\n",
       "\t\tprediction = registered_model(data.to('cuda:0'))\n",
       "\t\tprediction_cpu = prediction.cpu().numpy()\n",
       "\t\tpreds.append(prediction_cpu)\n",
       "preds_array = np.vstack(preds)"
      ]
     },
     {
      "cell_type": "markdown",
      "metadata": {
       "tags": []
      },
      "source": [
       "Let's plot the actual burned area data from the test set"
      ]
     },
     {
      "cell_type": "code",
      "execution_count": null,
      "metadata": {
       "tags": []
      },
      "outputs": [],
      "source": [
       "process_and_plot_data(\n",
       "\tdata=input_data.fcci_ba,\n",
       "\tlabel='FCCI Burned Areas',\n",
       "\tlats=input_data.latitude.values,\n",
       "\tlons=input_data.longitude.values,\n",
       "\tmodel_name=\"Observations\"\n",
       ")"
      ]
     },
     {
      "cell_type": "markdown",
      "metadata": {
       "tags": []
      },
      "source": [
       "Let's plot the predicted burned areas from the ML model"
      ]
     },
     {
      "cell_type": "code",
      "execution_count": null,
      "metadata": {
       "tags": []
      },
      "outputs": [],
      "source": [
       "process_and_plot_data(\n",
       "\tdata=preds_array,\n",
       "\tlabel='Predicted Burned Areas',\n",
       "\tlats=input_data.latitude.values,\n",
       "\tlons=input_data.longitude.values,\n",
       "\tmodel_name=\"Unet ++\"\n",
       ")"
      ]
     }
    ],
    "metadata": {
     "kernelspec": {
      "display_name": "Python 3 (ipykernel)",
      "language": "python",
      "name": "python3"
     },
     "language_info": {
      "codemirror_mode": {
       "name": "ipython",
       "version": 3
      },
      "file_extension": ".py",
      "mimetype": "text/x-python",
      "name": "python",
      "nbconvert_exporter": "python",
      "pygments_lexer": "ipython3",
      "version": "3.10.11"
     }
    },
    "nbformat": 4,
    "nbformat_minor": 4
   }
   